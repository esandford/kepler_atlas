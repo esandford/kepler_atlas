{
 "cells": [
  {
   "cell_type": "code",
   "execution_count": 1,
   "metadata": {
    "collapsed": false
   },
   "outputs": [],
   "source": [
    "import numpy as np\n",
    "import matplotlib.pyplot as plt\n",
    "import emcee\n",
    "import corner\n",
    "import batman\n",
    "import sys\n",
    "import copy\n",
    "import time\n",
    "from astropy import units as u\n",
    "from astropy.constants import G\n",
    "from astropy.io import ascii\n",
    "from matplotlib import gridspec\n",
    "import matplotlib as mpl\n",
    "\n",
    "%matplotlib inline"
   ]
  },
  {
   "cell_type": "code",
   "execution_count": 2,
   "metadata": {
    "collapsed": false
   },
   "outputs": [
    {
     "name": "stderr",
     "output_type": "stream",
     "text": [
      "WARNING: OverflowError converting to IntType in column koi_quarters, reverting to String. [astropy.io.ascii.fastbasic]\n"
     ]
    },
    {
     "name": "stdout",
     "output_type": "stream",
     "text": [
      "rowid  kepid   kepoi_name ... koi_dikco_msky koi_dikco_msky_err\n",
      "----- -------- ---------- ... -------------- ------------------\n",
      "    1 10797460  K00752.01 ...           0.32               0.16\n",
      "    2 10797460  K00752.02 ...            0.5               0.45\n",
      "    5 10854555  K00755.01 ...           0.07                0.2\n",
      "    6 10872983  K00756.01 ...           0.08                0.1\n",
      "    7 10872983  K00756.02 ...           0.19               0.17\n",
      "    8 10872983  K00756.03 ...            0.5                0.3\n",
      "   10 10910878  K00757.01 ...          0.031              0.081\n",
      "   11 11446443  K00001.01 ...           0.27               0.17\n",
      "   12 10666592  K00002.01 ...           4.19               0.75\n",
      "   13  6922244  K00010.01 ...          0.178              0.068\n",
      "  ...      ...        ... ...            ...                ...\n",
      " 9534 10028127  K08193.01 ...           0.32               0.48\n",
      " 9540 12885212  K02184.02 ...           0.83               0.63\n",
      " 9541  3645438  K04385.02 ...           0.78               0.66\n",
      " 9543  4548098  K04157.02 ...           0.98               0.99\n",
      " 9545 10467815  K03191.02 ...           0.38               0.56\n",
      " 9547  7429287  K04260.04 ...            1.1                1.2\n",
      " 9551  8488381  K07888.01 ...            2.6                1.2\n",
      " 9552  8489260  K07889.01 ...           0.63               0.89\n",
      " 9558 11911561  K03875.01 ...           0.17               0.16\n",
      " 9559  8765560  K03891.01 ...           1.07               0.53\n",
      " 9562 10128825  K07986.01 ...           0.53               0.47\n",
      "Length = 4496 rows\n"
     ]
    }
   ],
   "source": [
    "kep = ascii.read(\"../jstutorials/plotKepler/KOIarchive.csv\")\n",
    "print kep"
   ]
  },
  {
   "cell_type": "code",
   "execution_count": 3,
   "metadata": {
    "collapsed": false
   },
   "outputs": [
    {
     "name": "stdout",
     "output_type": "stream",
     "text": [
      "  kepid        tm_designation     teff ... timeoutsumry cdppslplong cdppslpshrt\n",
      "--------- ----------------------- ---- ... ------------ ----------- -----------\n",
      "   757076 2MASS J19240929+3635532 5160 ...            1    -0.33009    -0.41285\n",
      "   757099 2MASS J19241033+3635377 5519 ...            0    -0.25653    -0.18629\n",
      "   757137 2MASS J19241341+3633358 4706 ...            0     0.22699     0.67461\n",
      "   757280 2MASS J19242289+3633538 6543 ...            1    -0.10948    -0.37236\n",
      "   757450 2MASS J19243302+3634385 5332 ...            1    -0.11868    -0.48642\n",
      "   891901 2MASS J19234924+3641212 6323 ...            1    -0.16524    -0.58685\n",
      "   891916 2MASS J19234997+3641118 5602 ...            1     0.28699     -0.3707\n",
      "   892010 2MASS J19235545+3640011 4729 ...            1      0.2137     1.04503\n",
      "   892107 2MASS J19240024+3638334 5080 ...            1    -0.34153    -0.42588\n",
      "   892195 2MASS J19240520+3638374 5522 ...            1    -0.22849    -0.66485\n",
      "      ...                     ...  ... ...          ...         ...         ...\n",
      "100000961                      -- 5780 ...           --          --          --\n",
      "100000962                      -- 5780 ...           --          --          --\n",
      "100000963                      -- 5780 ...           --          --          --\n",
      "100000964                      -- 5780 ...           --          --          --\n",
      "100001133                      -- 5780 ...           --          --          --\n",
      "100001134                      -- 5780 ...           --          --          --\n",
      "100001473                      -- 5780 ...           --          --          --\n",
      "100001474                      -- 5780 ...           --          --          --\n",
      "100001643                      -- 5780 ...           --          --          --\n",
      "100001644                      -- 5780 ...           --          --          --\n",
      "100001645                      -- 5780 ...           --          --          --\n",
      "Length = 200038 rows\n"
     ]
    }
   ],
   "source": [
    "kepstellar = ascii.read(\"./kepler_stellar_17.csv\")\n",
    "print kepstellar"
   ]
  },
  {
   "cell_type": "code",
   "execution_count": 4,
   "metadata": {
    "collapsed": false
   },
   "outputs": [
    {
     "name": "stdout",
     "output_type": "stream",
     "text": [
      "141\n",
      "['rowid', 'kepid', 'kepoi_name', 'kepler_name', 'koi_disposition', 'koi_vet_stat', 'koi_vet_date', 'koi_pdisposition', 'koi_score', 'koi_fpflag_nt', 'koi_fpflag_ss', 'koi_fpflag_co', 'koi_fpflag_ec', 'koi_disp_prov', 'koi_comment', 'koi_period', 'koi_period_err1', 'koi_period_err2', 'koi_time0bk', 'koi_time0bk_err1', 'koi_time0bk_err2', 'koi_time0', 'koi_time0_err1', 'koi_time0_err2', 'koi_eccen', 'koi_eccen_err1', 'koi_eccen_err2', 'koi_longp', 'koi_longp_err1', 'koi_longp_err2', 'koi_impact', 'koi_impact_err1', 'koi_impact_err2', 'koi_duration', 'koi_duration_err1', 'koi_duration_err2', 'koi_ingress', 'koi_ingress_err1', 'koi_ingress_err2', 'koi_depth', 'koi_depth_err1', 'koi_depth_err2', 'koi_ror', 'koi_ror_err1', 'koi_ror_err2', 'koi_srho', 'koi_srho_err1', 'koi_srho_err2', 'koi_fittype', 'koi_prad', 'koi_prad_err1', 'koi_prad_err2', 'koi_sma', 'koi_sma_err1', 'koi_sma_err2', 'koi_incl', 'koi_incl_err1', 'koi_incl_err2', 'koi_teq', 'koi_teq_err1', 'koi_teq_err2', 'koi_insol', 'koi_insol_err1', 'koi_insol_err2', 'koi_dor', 'koi_dor_err1', 'koi_dor_err2', 'koi_limbdark_mod', 'koi_ldm_coeff4', 'koi_ldm_coeff3', 'koi_ldm_coeff2', 'koi_ldm_coeff1', 'koi_parm_prov', 'koi_max_sngle_ev', 'koi_max_mult_ev', 'koi_model_snr', 'koi_count', 'koi_num_transits', 'koi_tce_plnt_num', 'koi_tce_delivname', 'koi_quarters', 'koi_bin_oedp_sig', 'koi_trans_mod', 'koi_model_dof', 'koi_model_chisq', 'koi_datalink_dvr', 'koi_datalink_dvs', 'koi_steff', 'koi_steff_err1', 'koi_steff_err2', 'koi_slogg', 'koi_slogg_err1', 'koi_slogg_err2', 'koi_smet', 'koi_smet_err1', 'koi_smet_err2', 'koi_srad', 'koi_srad_err1', 'koi_srad_err2', 'koi_smass', 'koi_smass_err1', 'koi_smass_err2', 'koi_sage', 'koi_sage_err1', 'koi_sage_err2', 'koi_sparprov', 'ra', 'dec', 'koi_kepmag', 'koi_gmag', 'koi_rmag', 'koi_imag', 'koi_zmag', 'koi_jmag', 'koi_hmag', 'koi_kmag', 'koi_fwm_stat_sig', 'koi_fwm_sra', 'koi_fwm_sra_err', 'koi_fwm_sdec', 'koi_fwm_sdec_err', 'koi_fwm_srao', 'koi_fwm_srao_err', 'koi_fwm_sdeco', 'koi_fwm_sdeco_err', 'koi_fwm_prao', 'koi_fwm_prao_err', 'koi_fwm_pdeco', 'koi_fwm_pdeco_err', 'koi_dicco_mra', 'koi_dicco_mra_err', 'koi_dicco_mdec', 'koi_dicco_mdec_err', 'koi_dicco_msky', 'koi_dicco_msky_err', 'koi_dikco_mra', 'koi_dikco_mra_err', 'koi_dikco_mdec', 'koi_dikco_mdec_err', 'koi_dikco_msky', 'koi_dikco_msky_err']\n",
      "95\n",
      "['kepid', 'tm_designation', 'teff', 'teff_err1', 'teff_err2', 'logg', 'logg_err1', 'logg_err2', 'feh', 'feh_err1', 'feh_err2', 'mass', 'mass_err1', 'mass_err2', 'st_radius', 'radius_err1', 'radius_err2', 'dens', 'dens_err1', 'dens_err2', 'prov_sec', 'kepmag', 'dist', 'dist_err1', 'dist_err2', 'nconfp', 'nkoi', 'ntce', 'datalink_dvr', 'st_delivname', 'st_vet_date_str', 'degree_ra', 'degree_dec', 'st_quarters', 'teff_prov', 'logg_prov', 'feh_prov', 'jmag', 'jmag_err', 'hmag', 'hmag_err', 'kmag', 'kmag_err', 'dutycycle', 'dataspan', 'mesthres01p5', 'mesthres02p0', 'mesthres02p5', 'mesthres03p0', 'mesthres03p5', 'mesthres04p5', 'mesthres05p0', 'mesthres06p0', 'mesthres07p5', 'mesthres09p0', 'mesthres10p5', 'mesthres12p0', 'mesthres12p5', 'mesthres15p0', 'rrmscdpp01p5', 'rrmscdpp02p0', 'rrmscdpp02p5', 'rrmscdpp03p0', 'rrmscdpp03p5', 'rrmscdpp04p5', 'rrmscdpp05p0', 'rrmscdpp06p0', 'rrmscdpp07p5', 'rrmscdpp09p0', 'rrmscdpp10p5', 'rrmscdpp12p0', 'rrmscdpp12p5', 'rrmscdpp15p0', 'av', 'av_err1', 'av_err2', 'dutycycle_post', 'dataspan_post', 'timeout01p5', 'timeout02p0', 'timeout02p5', 'timeout03p0', 'timeout03p5', 'timeout04p5', 'timeout05p0', 'timeout06p0', 'timeout07p5', 'timeout09p0', 'timeout10p5', 'timeout12p0', 'timeout12p5', 'timeout15p0', 'timeoutsumry', 'cdppslplong', 'cdppslpshrt']\n"
     ]
    }
   ],
   "source": [
    "print len(kep.colnames)\n",
    "print kep.colnames\n",
    "print len(kepstellar.colnames)\n",
    "print kepstellar.colnames"
   ]
  },
  {
   "cell_type": "code",
   "execution_count": 25,
   "metadata": {
    "collapsed": false
   },
   "outputs": [],
   "source": [
    "cols_to_add = ['dist','dist_err1','dist_err2','nconfp','nkoi']"
   ]
  },
  {
   "cell_type": "code",
   "execution_count": 7,
   "metadata": {
    "collapsed": false
   },
   "outputs": [
    {
     "data": {
      "text/plain": [
       "(array([  4.14400000e+03,   3.07400000e+03,   4.84900000e+03,\n",
       "          6.83600000e+03,   9.77100000e+03,   1.28730000e+04,\n",
       "          1.63560000e+04,   1.85790000e+04,   1.96430000e+04,\n",
       "          1.85630000e+04,   1.63030000e+04,   1.35270000e+04,\n",
       "          1.07650000e+04,   8.18500000e+03,   5.92500000e+03,\n",
       "          4.28300000e+03,   3.09900000e+03,   2.34000000e+03,\n",
       "          1.66900000e+03,   1.33700000e+03,   1.07900000e+03,\n",
       "          8.81000000e+02,   8.41000000e+02,   7.02000000e+02,\n",
       "          6.96000000e+02,   6.34000000e+02,   5.84000000e+02,\n",
       "          5.59000000e+02,   5.33000000e+02,   4.56000000e+02,\n",
       "          4.53000000e+02,   4.79000000e+02,   4.15000000e+02,\n",
       "          3.70000000e+02,   3.69000000e+02,   3.74000000e+02,\n",
       "          3.06000000e+02,   3.16000000e+02,   2.92000000e+02,\n",
       "          3.08000000e+02,   2.76000000e+02,   2.59000000e+02,\n",
       "          2.45000000e+02,   2.43000000e+02,   2.21000000e+02,\n",
       "          2.22000000e+02,   1.98000000e+02,   1.50000000e+02,\n",
       "          1.99000000e+02,   1.84000000e+02,   1.76000000e+02,\n",
       "          1.84000000e+02,   1.84000000e+02,   1.69000000e+02,\n",
       "          1.79000000e+02,   1.58000000e+02,   1.57000000e+02,\n",
       "          1.22000000e+02,   1.25000000e+02,   1.21000000e+02,\n",
       "          1.30000000e+02,   1.19000000e+02,   9.80000000e+01,\n",
       "          9.90000000e+01,   1.06000000e+02,   1.03000000e+02,\n",
       "          1.12000000e+02,   9.80000000e+01,   9.70000000e+01,\n",
       "          8.30000000e+01,   7.90000000e+01,   6.90000000e+01,\n",
       "          5.60000000e+01,   6.20000000e+01,   7.30000000e+01,\n",
       "          4.70000000e+01,   5.40000000e+01,   5.60000000e+01,\n",
       "          5.70000000e+01,   5.10000000e+01,   3.50000000e+01,\n",
       "          4.30000000e+01,   4.70000000e+01,   3.40000000e+01,\n",
       "          4.30000000e+01,   2.30000000e+01,   2.20000000e+01,\n",
       "          3.30000000e+01,   2.70000000e+01,   2.80000000e+01,\n",
       "          2.80000000e+01,   2.30000000e+01,   2.20000000e+01,\n",
       "          2.00000000e+01,   1.30000000e+01,   2.30000000e+01,\n",
       "          1.70000000e+01,   1.20000000e+01,   1.80000000e+01,\n",
       "          1.30000000e+01]),\n",
       " array([     0.,    100.,    200.,    300.,    400.,    500.,    600.,\n",
       "           700.,    800.,    900.,   1000.,   1100.,   1200.,   1300.,\n",
       "          1400.,   1500.,   1600.,   1700.,   1800.,   1900.,   2000.,\n",
       "          2100.,   2200.,   2300.,   2400.,   2500.,   2600.,   2700.,\n",
       "          2800.,   2900.,   3000.,   3100.,   3200.,   3300.,   3400.,\n",
       "          3500.,   3600.,   3700.,   3800.,   3900.,   4000.,   4100.,\n",
       "          4200.,   4300.,   4400.,   4500.,   4600.,   4700.,   4800.,\n",
       "          4900.,   5000.,   5100.,   5200.,   5300.,   5400.,   5500.,\n",
       "          5600.,   5700.,   5800.,   5900.,   6000.,   6100.,   6200.,\n",
       "          6300.,   6400.,   6500.,   6600.,   6700.,   6800.,   6900.,\n",
       "          7000.,   7100.,   7200.,   7300.,   7400.,   7500.,   7600.,\n",
       "          7700.,   7800.,   7900.,   8000.,   8100.,   8200.,   8300.,\n",
       "          8400.,   8500.,   8600.,   8700.,   8800.,   8900.,   9000.,\n",
       "          9100.,   9200.,   9300.,   9400.,   9500.,   9600.,   9700.,\n",
       "          9800.,   9900.,  10000.]),\n",
       " <a list of 100 Patch objects>)"
      ]
     },
     "execution_count": 7,
     "metadata": {},
     "output_type": "execute_result"
    },
    {
     "data": {
      "image/png": "[encoded data removed]",
      "text/plain": [
       "<matplotlib.figure.Figure at 0x1d14082690>"
      ]
     },
     "metadata": {},
     "output_type": "display_data"
    }
   ],
   "source": [
    "plt.hist(kepstellar['dist'],range=(0,10000),bins=100)"
   ]
  },
  {
   "cell_type": "code",
   "execution_count": 28,
   "metadata": {
    "collapsed": false
   },
   "outputs": [
    {
     "name": "stdout",
     "output_type": "stream",
     "text": [
      "(4496,)\n",
      "[168178 168178 169246 ..., 190689 118625 153253]\n"
     ]
    }
   ],
   "source": [
    "kepstellar_idxs = []\n",
    "for i in range(0,len(kep)):\n",
    "    kic = kep['kepid'][i]\n",
    "    kepstellar_mask = (kepstellar['kepid'] == kic)\n",
    "    try:\n",
    "        kepstellar_idxs.append(np.arange(0,len(kepstellar))[kepstellar_mask][0])\n",
    "    except IndexError:\n",
    "        print kic\n",
    "        print np.arange(0,len(kepstellar))[kepstellar_mask]\n",
    "        kepstellar_idxs.append(np.arange(0,len(kepstellar))[kepstellar_mask])\n",
    "        \n",
    "kepstellar_idxs = np.array(kepstellar_idxs)\n",
    "print np.shape(kepstellar_idxs)\n",
    "print kepstellar_idxs"
   ]
  },
  {
   "cell_type": "code",
   "execution_count": 33,
   "metadata": {
    "collapsed": false
   },
   "outputs": [],
   "source": [
    "for newcol in cols_to_add:\n",
    "    kep[newcol] = kepstellar[newcol][kepstellar_idxs]"
   ]
  },
  {
   "cell_type": "code",
   "execution_count": 37,
   "metadata": {
    "collapsed": false
   },
   "outputs": [
    {
     "name": "stdout",
     "output_type": "stream",
     "text": [
      " kepid     dist \n",
      "-------- -------\n",
      "10797460 1014.04\n",
      "10797460 1014.04\n",
      "10854555 1459.17\n",
      "10872983  1435.0\n",
      "10872983  1435.0\n",
      "10872983  1435.0\n",
      "10910878  963.24\n",
      "11446443  198.51\n",
      "10666592  324.82\n",
      " 6922244  918.89\n",
      "     ...     ...\n",
      "10028127 1115.66\n",
      "12885212  636.49\n",
      " 3645438   943.4\n",
      " 4548098  485.67\n",
      "10467815 1432.01\n",
      " 7429287  281.81\n",
      " 8488381   693.1\n",
      " 8489260 1352.31\n",
      "11911561  805.46\n",
      " 8765560 1234.97\n",
      "10128825 1046.16\n",
      "Length = 4496 rows\n"
     ]
    }
   ],
   "source": [
    "#print kep\n",
    "print kep['kepid','dist']"
   ]
  },
  {
   "cell_type": "code",
   "execution_count": 40,
   "metadata": {
    "collapsed": false
   },
   "outputs": [],
   "source": [
    "kep.write(\"./KOIarchive_stellar.csv\",format='ascii',delimiter=',')"
   ]
  },
  {
   "cell_type": "code",
   "execution_count": null,
   "metadata": {
    "collapsed": true
   },
   "outputs": [],
   "source": []
  }
 ],
 "metadata": {
  "kernelspec": {
   "display_name": "Python 2",
   "language": "python",
   "name": "python2"
  },
  "language_info": {
   "codemirror_mode": {
    "name": "ipython",
    "version": 2
   },
   "file_extension": ".py",
   "mimetype": "text/x-python",
   "name": "python",
   "nbconvert_exporter": "python",
   "pygments_lexer": "ipython2",
   "version": "2.7.12"
  }
 },
 "nbformat": 4,
 "nbformat_minor": 0
}
