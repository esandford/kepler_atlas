{
 "cells": [
  {
   "cell_type": "code",
   "execution_count": 1,
   "metadata": {
    "collapsed": false
   },
   "outputs": [],
   "source": [
    "import numpy as np\n",
    "import matplotlib.pyplot as plt\n",
    "import matplotlib.colors as clrs\n",
    "import matplotlib.cm as cmx\n",
    "import matplotlib.colorbar as cb\n",
    "import emcee\n",
    "import corner\n",
    "import batman\n",
    "import copy\n",
    "import time\n",
    "from astropy import units as u\n",
    "from astropy.constants import G\n",
    "from astropy.io import ascii\n",
    "from matplotlib import gridspec\n",
    "import scipy.optimize as sciop\n",
    "\n",
    "import matplotlib.style\n",
    "import matplotlib as mpl\n",
    "mpl.style.use('classic')\n",
    "\n",
    "%matplotlib inline"
   ]
  },
  {
   "cell_type": "code",
   "execution_count": 2,
   "metadata": {
    "collapsed": false
   },
   "outputs": [
    {
     "name": "stderr",
     "output_type": "stream",
     "text": [
      "WARNING: OverflowError converting to IntType in column koi_quarters, reverting to String. [astropy.io.ascii.fastbasic]\n"
     ]
    }
   ],
   "source": [
    "kep = ascii.read(\"./KOIarchive_stellar.csv\")"
   ]
  },
  {
   "cell_type": "code",
   "execution_count": 3,
   "metadata": {
    "collapsed": false
   },
   "outputs": [
    {
     "name": "stdout",
     "output_type": "stream",
     "text": [
      "['rowid', 'kepid', 'kepoi_name', 'kepler_name', 'koi_disposition', 'koi_vet_stat', 'koi_vet_date', 'koi_pdisposition', 'koi_score', 'koi_fpflag_nt', 'koi_fpflag_ss', 'koi_fpflag_co', 'koi_fpflag_ec', 'koi_disp_prov', 'koi_comment', 'koi_period', 'koi_period_err1', 'koi_period_err2', 'koi_time0bk', 'koi_time0bk_err1', 'koi_time0bk_err2', 'koi_time0', 'koi_time0_err1', 'koi_time0_err2', 'koi_eccen', 'koi_eccen_err1', 'koi_eccen_err2', 'koi_longp', 'koi_longp_err1', 'koi_longp_err2', 'koi_impact', 'koi_impact_err1', 'koi_impact_err2', 'koi_duration', 'koi_duration_err1', 'koi_duration_err2', 'koi_ingress', 'koi_ingress_err1', 'koi_ingress_err2', 'koi_depth', 'koi_depth_err1', 'koi_depth_err2', 'koi_ror', 'koi_ror_err1', 'koi_ror_err2', 'koi_srho', 'koi_srho_err1', 'koi_srho_err2', 'koi_fittype', 'koi_prad', 'koi_prad_err1', 'koi_prad_err2', 'koi_sma', 'koi_sma_err1', 'koi_sma_err2', 'koi_incl', 'koi_incl_err1', 'koi_incl_err2', 'koi_teq', 'koi_teq_err1', 'koi_teq_err2', 'koi_insol', 'koi_insol_err1', 'koi_insol_err2', 'koi_dor', 'koi_dor_err1', 'koi_dor_err2', 'koi_limbdark_mod', 'koi_ldm_coeff4', 'koi_ldm_coeff3', 'koi_ldm_coeff2', 'koi_ldm_coeff1', 'koi_parm_prov', 'koi_max_sngle_ev', 'koi_max_mult_ev', 'koi_model_snr', 'koi_count', 'koi_num_transits', 'koi_tce_plnt_num', 'koi_tce_delivname', 'koi_quarters', 'koi_bin_oedp_sig', 'koi_trans_mod', 'koi_model_dof', 'koi_model_chisq', 'koi_datalink_dvr', 'koi_datalink_dvs', 'koi_steff', 'koi_steff_err1', 'koi_steff_err2', 'koi_slogg', 'koi_slogg_err1', 'koi_slogg_err2', 'koi_smet', 'koi_smet_err1', 'koi_smet_err2', 'koi_srad', 'koi_srad_err1', 'koi_srad_err2', 'koi_smass', 'koi_smass_err1', 'koi_smass_err2', 'koi_sage', 'koi_sage_err1', 'koi_sage_err2', 'koi_sparprov', 'ra', 'dec', 'koi_kepmag', 'koi_gmag', 'koi_rmag', 'koi_imag', 'koi_zmag', 'koi_jmag', 'koi_hmag', 'koi_kmag', 'koi_fwm_stat_sig', 'koi_fwm_sra', 'koi_fwm_sra_err', 'koi_fwm_sdec', 'koi_fwm_sdec_err', 'koi_fwm_srao', 'koi_fwm_srao_err', 'koi_fwm_sdeco', 'koi_fwm_sdeco_err', 'koi_fwm_prao', 'koi_fwm_prao_err', 'koi_fwm_pdeco', 'koi_fwm_pdeco_err', 'koi_dicco_mra', 'koi_dicco_mra_err', 'koi_dicco_mdec', 'koi_dicco_mdec_err', 'koi_dicco_msky', 'koi_dicco_msky_err', 'koi_dikco_mra', 'koi_dikco_mra_err', 'koi_dikco_mdec', 'koi_dikco_mdec_err', 'koi_dikco_msky', 'koi_dikco_msky_err', 'dist', 'dist_err1', 'dist_err2', 'nconfp', 'nkoi']\n"
     ]
    }
   ],
   "source": [
    "print kep.colnames"
   ]
  },
  {
   "cell_type": "code",
   "execution_count": 4,
   "metadata": {
    "collapsed": true
   },
   "outputs": [],
   "source": [
    "kep.remove_columns(['koi_vet_stat','koi_vet_date','koi_fpflag_nt','koi_fpflag_ss','koi_fpflag_co','koi_fpflag_ec','koi_disp_prov',\n",
    "                    'koi_comment',\n",
    "                    'koi_fwm_stat_sig','koi_fwm_sra','koi_fwm_sra_err','koi_fwm_sdec','koi_fwm_sdec_err','koi_fwm_srao','koi_fwm_srao_err',\n",
    "                   'koi_fwm_sdeco','koi_fwm_sdeco_err','koi_fwm_prao','koi_fwm_prao_err','koi_fwm_pdeco','koi_fwm_pdeco_err',\n",
    "                   'koi_dicco_mra','koi_dicco_mra_err','koi_dicco_mdec','koi_dicco_mdec_err','koi_dicco_msky','koi_dicco_msky_err',\n",
    "                   'koi_dikco_mra','koi_dikco_mra_err','koi_dikco_mdec','koi_dikco_mdec_err','koi_dikco_msky','koi_dikco_msky_err'])"
   ]
  },
  {
   "cell_type": "code",
   "execution_count": 5,
   "metadata": {
    "collapsed": false
   },
   "outputs": [
    {
     "name": "stdout",
     "output_type": "stream",
     "text": [
      "rowid  kepid   kepoi_name  kepler_name  ... dist_err1 dist_err2 nconfp nkoi\n",
      "----- -------- ---------- ------------- ... --------- --------- ------ ----\n",
      "    1 10797460  K00752.01  Kepler-227 b ...    131.26     83.53      2    2\n",
      "    2 10797460  K00752.02  Kepler-227 c ...    131.26     83.53      2    2\n",
      "    5 10854555  K00755.01  Kepler-664 b ...    514.88    205.95      1    1\n",
      "    6 10872983  K00756.01  Kepler-228 d ...     516.6     184.5      3    3\n",
      "    7 10872983  K00756.02  Kepler-228 c ...     516.6     184.5      3    3\n",
      "    8 10872983  K00756.03  Kepler-228 b ...     516.6     184.5      3    3\n",
      "   10 10910878  K00757.01  Kepler-229 c ...     54.25     88.15      3    3\n",
      "   11 11446443  K00001.01    Kepler-1 b ...      9.76      9.76      1    1\n",
      "   12 10666592  K00002.01    Kepler-2 b ...     16.66     21.21      1    1\n",
      "   13  6922244  K00010.01    Kepler-8 b ...     77.54     77.54      1    1\n",
      "  ...      ...        ...           ... ...       ...       ...    ...  ...\n",
      " 9534 10028127  K08193.01            -- ...    293.58    112.92      0    1\n",
      " 9540 12885212  K02184.02            -- ...     27.46     45.76      0    2\n",
      " 9541  3645438  K04385.02 Kepler-1600 b ...     60.69     74.18      1    3\n",
      " 9543  4548098  K04157.02            -- ...     91.82     32.79      0    2\n",
      " 9545 10467815  K03191.02            -- ...    426.66    639.99      0    2\n",
      " 9547  7429287  K04260.04            -- ...     14.16     14.09      0    4\n",
      " 9551  8488381  K07888.01            -- ...    242.46     90.92      0    1\n",
      " 9552  8489260  K07889.01            -- ...     411.1    146.82      0    1\n",
      " 9558 11911561  K03875.01            -- ...    225.92    338.88      0    1\n",
      " 9559  8765560  K03891.01            -- ...    455.75    846.39      0    1\n",
      " 9562 10128825  K07986.01            -- ...    371.52    139.32      0    1\n",
      "Length = 4496 rows\n"
     ]
    }
   ],
   "source": [
    "print kep"
   ]
  },
  {
   "cell_type": "code",
   "execution_count": 19,
   "metadata": {
    "collapsed": false
   },
   "outputs": [
    {
     "data": {
      "image/png": "[encoded data removed]",
      "text/plain": [
       "<matplotlib.figure.Figure at 0x1d12e4bbd0>"
      ]
     },
     "metadata": {},
     "output_type": "display_data"
    },
    {
     "name": "stdout",
     "output_type": "stream",
     "text": [
      "koi_steff\n",
      "---------\n",
      "       --\n",
      "       --\n",
      "       --\n",
      "       --\n",
      "       --\n",
      "       --\n",
      "       --\n",
      "       --\n",
      "       --\n",
      "       --\n",
      "      ...\n",
      "       --\n",
      "       --\n",
      "       --\n",
      "       --\n",
      "       --\n",
      "       --\n",
      "       --\n",
      "       --\n",
      "       --\n",
      "       --\n",
      "       --\n",
      "Length = 63 rows\n"
     ]
    }
   ],
   "source": [
    "fig = plt.figure(figsize=(8,6))\n",
    "plt.hist(kep['koi_steff'],bins=500)\n",
    "plt.show()\n",
    "\n",
    "badmask = (kep['koi_steff'] <= 1000) | (kep['koi_srad'] >= 15000.)\n",
    "print kep['koi_steff'][badmask]"
   ]
  },
  {
   "cell_type": "code",
   "execution_count": 30,
   "metadata": {
    "collapsed": false
   },
   "outputs": [
    {
     "name": "stdout",
     "output_type": "stream",
     "text": [
      "<type 'str'>\n",
      "1\n",
      "<type 'numpy.int64'>\n",
      "10797460\n",
      "<type 'numpy.int64'>\n",
      "K00752.01\n",
      "<type 'numpy.string_'>\n",
      "Kepler-227 b\n",
      "<type 'numpy.string_'>\n",
      "CONFIRMED\n",
      "<type 'numpy.string_'>\n",
      "Active\n",
      "<type 'numpy.string_'>\n",
      "2017-05-10\n",
      "<type 'numpy.string_'>\n",
      "CANDIDATE\n",
      "<type 'numpy.string_'>\n",
      "1.0\n",
      "<type 'numpy.float64'>\n",
      "0\n",
      "<type 'numpy.int64'>\n",
      "0\n",
      "<type 'numpy.int64'>\n",
      "0\n",
      "<type 'numpy.int64'>\n",
      "0\n",
      "<type 'numpy.int64'>\n",
      "q1_q17_dr25_koi\n",
      "<type 'numpy.string_'>\n",
      "NO_COMMENT\n",
      "<type 'numpy.string_'>\n",
      "9.48803557\n",
      "<type 'numpy.float64'>\n",
      "2.775e-05\n",
      "<type 'numpy.float64'>\n",
      "-2.775e-05\n",
      "<type 'numpy.float64'>\n",
      "170.53875\n",
      "<type 'numpy.float64'>\n",
      "0.00216\n",
      "<type 'numpy.float64'>\n",
      "-0.00216\n",
      "<type 'numpy.float64'>\n",
      "2455003.539\n",
      "<type 'numpy.float64'>\n",
      "0.00216\n",
      "<type 'numpy.float64'>\n",
      "-0.00216\n",
      "<type 'numpy.float64'>\n",
      "0\n",
      "<type 'numpy.int64'>\n",
      "--\n",
      "<class 'numpy.ma.core.MaskedConstant'>\n",
      "--\n",
      "<class 'numpy.ma.core.MaskedConstant'>\n",
      "--\n",
      "<class 'numpy.ma.core.MaskedConstant'>\n",
      "--\n",
      "<class 'numpy.ma.core.MaskedConstant'>\n",
      "--\n",
      "<class 'numpy.ma.core.MaskedConstant'>\n",
      "0.146\n",
      "<type 'numpy.float64'>\n",
      "0.318\n",
      "<type 'numpy.float64'>\n",
      "-0.146\n",
      "<type 'numpy.float64'>\n",
      "2.9575\n",
      "<type 'numpy.float64'>\n",
      "0.0819\n",
      "<type 'numpy.float64'>\n",
      "-0.0819\n",
      "<type 'numpy.float64'>\n",
      "--\n",
      "<class 'numpy.ma.core.MaskedConstant'>\n",
      "--\n",
      "<class 'numpy.ma.core.MaskedConstant'>\n",
      "--\n",
      "<class 'numpy.ma.core.MaskedConstant'>\n",
      "615.8\n",
      "<type 'numpy.float64'>\n",
      "19.5\n",
      "<type 'numpy.float64'>\n",
      "-19.5\n",
      "<type 'numpy.float64'>\n",
      "0.022344\n",
      "<type 'numpy.float64'>\n",
      "0.000832\n",
      "<type 'numpy.float64'>\n",
      "-0.000528\n",
      "<type 'numpy.float64'>\n",
      "3.20796\n",
      "<type 'numpy.float64'>\n",
      "0.33173\n",
      "<type 'numpy.float64'>\n",
      "-1.09986\n",
      "<type 'numpy.float64'>\n",
      "LS+MCMC\n",
      "<type 'numpy.string_'>\n",
      "2.26\n",
      "<type 'numpy.float64'>\n",
      "0.26\n",
      "<type 'numpy.float64'>\n",
      "-0.15\n",
      "<type 'numpy.float64'>\n",
      "0.0853\n",
      "<type 'numpy.float64'>\n",
      "--\n",
      "<class 'numpy.ma.core.MaskedConstant'>\n",
      "--\n",
      "<class 'numpy.ma.core.MaskedConstant'>\n",
      "89.66\n",
      "<type 'numpy.float64'>\n",
      "--\n",
      "<class 'numpy.ma.core.MaskedConstant'>\n",
      "--\n",
      "<class 'numpy.ma.core.MaskedConstant'>\n",
      "793.0\n",
      "<type 'numpy.float64'>\n",
      "--\n",
      "<class 'numpy.ma.core.MaskedConstant'>\n",
      "--\n",
      "<class 'numpy.ma.core.MaskedConstant'>\n",
      "93.59\n",
      "<type 'numpy.float64'>\n",
      "29.45\n",
      "<type 'numpy.float64'>\n",
      "-16.65\n",
      "<type 'numpy.float64'>\n",
      "24.81\n",
      "<type 'numpy.float64'>\n",
      "2.6\n",
      "<type 'numpy.float64'>\n",
      "-2.6\n",
      "<type 'numpy.float64'>\n",
      "Claret (2011 A&A 529 75) ATLAS LS\n",
      "<type 'numpy.string_'>\n",
      "0.0\n",
      "<type 'numpy.float64'>\n",
      "0.0\n",
      "<type 'numpy.float64'>\n",
      "0.2291\n",
      "<type 'numpy.float64'>\n",
      "0.4603\n",
      "<type 'numpy.float64'>\n",
      "q1_q17_dr25_koi\n",
      "<type 'numpy.string_'>\n",
      "5.135849\n",
      "<type 'numpy.float64'>\n",
      "28.47082\n",
      "<type 'numpy.float64'>\n",
      "35.8\n",
      "<type 'numpy.float64'>\n",
      "2\n",
      "<type 'numpy.int64'>\n",
      "142\n",
      "<type 'numpy.int64'>\n",
      "1\n",
      "<type 'numpy.int64'>\n",
      "q1_q17_dr25_tce\n",
      "<type 'numpy.string_'>\n",
      "11111111111111111000000000000000\n",
      "<type 'numpy.string_'>\n",
      "0.6864\n",
      "<type 'numpy.float64'>\n",
      "Mandel and Agol (2002 ApJ 580 171)\n",
      "<type 'numpy.string_'>\n",
      "--\n",
      "<class 'numpy.ma.core.MaskedConstant'>\n",
      "--\n",
      "<class 'numpy.ma.core.MaskedConstant'>\n",
      "010/010797/010797460/dv/kplr010797460-20160209194854_dvr.pdf\n",
      "<type 'numpy.string_'>\n",
      "010/010797/010797460/dv/kplr010797460-001-20160209194854_dvs.pdf\n",
      "<type 'numpy.string_'>\n",
      "5455.0\n",
      "<type 'numpy.float64'>\n",
      "81.0\n",
      "<type 'numpy.float64'>\n",
      "-81.0\n",
      "<type 'numpy.float64'>\n",
      "4.467\n",
      "<type 'numpy.float64'>\n",
      "0.064\n",
      "<type 'numpy.float64'>\n",
      "-0.096\n",
      "<type 'numpy.float64'>\n",
      "0.14\n",
      "<type 'numpy.float64'>\n",
      "0.15\n",
      "<type 'numpy.float64'>\n",
      "-0.15\n",
      "<type 'numpy.float64'>\n",
      "0.927\n",
      "<type 'numpy.float64'>\n",
      "0.105\n",
      "<type 'numpy.float64'>\n",
      "-0.061\n",
      "<type 'numpy.float64'>\n",
      "0.919\n",
      "<type 'numpy.float64'>\n",
      "0.052\n",
      "<type 'numpy.float64'>\n",
      "-0.046\n",
      "<type 'numpy.float64'>\n",
      "--\n",
      "<class 'numpy.ma.core.MaskedConstant'>\n",
      "--\n",
      "<class 'numpy.ma.core.MaskedConstant'>\n",
      "--\n",
      "<class 'numpy.ma.core.MaskedConstant'>\n",
      "q1_q17_dr25_stellar\n",
      "<type 'numpy.string_'>\n",
      "291.93423\n",
      "<type 'numpy.float64'>\n",
      "48.141651\n",
      "<type 'numpy.float64'>\n",
      "15.347\n",
      "<type 'numpy.float64'>\n",
      "15.89\n",
      "<type 'numpy.float64'>\n",
      "15.27\n",
      "<type 'numpy.float64'>\n",
      "15.114\n",
      "<type 'numpy.float64'>\n",
      "15.006\n",
      "<type 'numpy.float64'>\n",
      "14.082\n",
      "<type 'numpy.float64'>\n",
      "13.751\n",
      "<type 'numpy.float64'>\n",
      "13.648\n",
      "<type 'numpy.float64'>\n",
      "0.002\n",
      "<type 'numpy.float64'>\n",
      "19.462294\n",
      "<type 'numpy.float64'>\n",
      "1.4e-05\n",
      "<type 'numpy.float64'>\n",
      "48.14191\n",
      "<type 'numpy.float64'>\n",
      "0.00013\n",
      "<type 'numpy.float64'>\n",
      "0.43\n",
      "<type 'numpy.float64'>\n",
      "0.51\n",
      "<type 'numpy.float64'>\n",
      "0.94\n",
      "<type 'numpy.float64'>\n",
      "0.48\n",
      "<type 'numpy.float64'>\n",
      "-0.0002\n",
      "<type 'numpy.float64'>\n",
      "0.00032\n",
      "<type 'numpy.float64'>\n",
      "-0.00055\n",
      "<type 'numpy.float64'>\n",
      "0.00031\n",
      "<type 'numpy.float64'>\n",
      "-0.01\n",
      "<type 'numpy.float64'>\n",
      "0.13\n",
      "<type 'numpy.float64'>\n",
      "0.2\n",
      "<type 'numpy.float64'>\n",
      "0.16\n",
      "<type 'numpy.float64'>\n",
      "0.2\n",
      "<type 'numpy.float64'>\n",
      "0.17\n",
      "<type 'numpy.float64'>\n",
      "0.08\n",
      "<type 'numpy.float64'>\n",
      "0.13\n",
      "<type 'numpy.float64'>\n",
      "0.31\n",
      "<type 'numpy.float64'>\n",
      "0.17\n",
      "<type 'numpy.float64'>\n",
      "0.32\n",
      "<type 'numpy.float64'>\n",
      "0.16\n",
      "<type 'numpy.float64'>\n",
      "1014.04\n",
      "<type 'numpy.float64'>\n",
      "131.26\n",
      "<type 'numpy.float64'>\n",
      "83.53\n",
      "<type 'numpy.float64'>\n",
      "2\n",
      "<type 'numpy.int64'>\n",
      "2\n",
      "<type 'numpy.int64'>\n",
      "{\"rowid\":1, \"kepid\":10797460, \"kepoi_name\":\"K00752.01\", \"kepler_name\":\"Kepler-227 b\", \"koi_disposition\":\"CONFIRMED\", \"koi_vet_stat\":\"Active\", \"koi_vet_date\":\"2017-05-10\", \"koi_pdisposition\":\"CANDIDATE\", \"koi_score\":1.0, \"koi_fpflag_nt\":0, \"koi_fpflag_ss\":0, \"koi_fpflag_co\":0, \"koi_fpflag_ec\":0, \"koi_disp_prov\":\"q1_q17_dr25_koi\", \"koi_comment\":\"NO_COMMENT\", \"koi_period\":9.48803557, \"koi_period_err1\":2.775e-05, \"koi_period_err2\":-2.775e-05, \"koi_time0bk\":170.53875, \"koi_time0bk_err1\":0.00216, \"koi_time0bk_err2\":-0.00216, \"koi_time0\":2455003.539, \"koi_time0_err1\":0.00216, \"koi_time0_err2\":-0.00216, \"koi_eccen\":0, \"koi_eccen_err1\":\"--\", \"koi_eccen_err2\":\"--\", \"koi_longp\":\"--\", \"koi_longp_err1\":\"--\", \"koi_longp_err2\":\"--\", \"koi_impact\":0.146, \"koi_impact_err1\":0.318, \"koi_impact_err2\":-0.146, \"koi_duration\":2.9575, \"koi_duration_err1\":0.0819, \"koi_duration_err2\":-0.0819, \"koi_ingress\":\"--\", \"koi_ingress_err1\":\"--\", \"koi_ingress_err2\":\"--\", \"koi_depth\":615.8, \"koi_depth_err1\":19.5, \"koi_depth_err2\":-19.5, \"koi_ror\":0.022344, \"koi_ror_err1\":0.000832, \"koi_ror_err2\":-0.000528, \"koi_srho\":3.20796, \"koi_srho_err1\":0.33173, \"koi_srho_err2\":-1.09986, \"koi_fittype\":\"LS+MCMC\", \"koi_prad\":2.26, \"koi_prad_err1\":0.26, \"koi_prad_err2\":-0.15, \"koi_sma\":0.0853, \"koi_sma_err1\":\"--\", \"koi_sma_err2\":\"--\", \"koi_incl\":89.66, \"koi_incl_err1\":\"--\", \"koi_incl_err2\":\"--\", \"koi_teq\":793.0, \"koi_teq_err1\":\"--\", \"koi_teq_err2\":\"--\", \"koi_insol\":93.59, \"koi_insol_err1\":29.45, \"koi_insol_err2\":-16.65, \"koi_dor\":24.81, \"koi_dor_err1\":2.6, \"koi_dor_err2\":-2.6, \"koi_limbdark_mod\":\"Claret (2011 A&A 529 75) ATLAS LS\", \"koi_ldm_coeff4\":0.0, \"koi_ldm_coeff3\":0.0, \"koi_ldm_coeff2\":0.2291, \"koi_ldm_coeff1\":0.4603, \"koi_parm_prov\":\"q1_q17_dr25_koi\", \"koi_max_sngle_ev\":5.135849, \"koi_max_mult_ev\":28.47082, \"koi_model_snr\":35.8, \"koi_count\":2, \"koi_num_transits\":142, \"koi_tce_plnt_num\":1, \"koi_tce_delivname\":\"q1_q17_dr25_tce\", \"koi_quarters\":\"11111111111111111000000000000000\", \"koi_bin_oedp_sig\":0.6864, \"koi_trans_mod\":\"Mandel and Agol (2002 ApJ 580 171)\", \"koi_model_dof\":\"--\", \"koi_model_chisq\":\"--\", \"koi_datalink_dvr\":\"010/010797/010797460/dv/kplr010797460-20160209194854_dvr.pdf\", \"koi_datalink_dvs\":\"010/010797/010797460/dv/kplr010797460-001-20160209194854_dvs.pdf\", \"koi_steff\":5455.0, \"koi_steff_err1\":81.0, \"koi_steff_err2\":-81.0, \"koi_slogg\":4.467, \"koi_slogg_err1\":0.064, \"koi_slogg_err2\":-0.096, \"koi_smet\":0.14, \"koi_smet_err1\":0.15, \"koi_smet_err2\":-0.15, \"koi_srad\":0.927, \"koi_srad_err1\":0.105, \"koi_srad_err2\":-0.061, \"koi_smass\":0.919, \"koi_smass_err1\":0.052, \"koi_smass_err2\":-0.046, \"koi_sage\":\"--\", \"koi_sage_err1\":\"--\", \"koi_sage_err2\":\"--\", \"koi_sparprov\":\"q1_q17_dr25_stellar\", \"ra\":291.93423, \"dec\":48.141651, \"koi_kepmag\":15.347, \"koi_gmag\":15.89, \"koi_rmag\":15.27, \"koi_imag\":15.114, \"koi_zmag\":15.006, \"koi_jmag\":14.082, \"koi_hmag\":13.751, \"koi_kmag\":13.648, \"koi_fwm_stat_sig\":0.002, \"koi_fwm_sra\":19.462294, \"koi_fwm_sra_err\":1.4e-05, \"koi_fwm_sdec\":48.14191, \"koi_fwm_sdec_err\":0.00013, \"koi_fwm_srao\":0.43, \"koi_fwm_srao_err\":0.51, \"koi_fwm_sdeco\":0.94, \"koi_fwm_sdeco_err\":0.48, \"koi_fwm_prao\":-0.0002, \"koi_fwm_prao_err\":0.00032, \"koi_fwm_pdeco\":-0.00055, \"koi_fwm_pdeco_err\":0.00031, \"koi_dicco_mra\":-0.01, \"koi_dicco_mra_err\":0.13, \"koi_dicco_mdec\":0.2, \"koi_dicco_mdec_err\":0.16, \"koi_dicco_msky\":0.2, \"koi_dicco_msky_err\":0.17, \"koi_dikco_mra\":0.08, \"koi_dikco_mra_err\":0.13, \"koi_dikco_mdec\":0.31, \"koi_dikco_mdec_err\":0.17, \"koi_dikco_msky\":0.32, \"koi_dikco_msky_err\":0.16, \"dist\":1014.04, \"dist_err1\":131.26, \"dist_err2\":83.53, \"nconfp\":2, \"nkoi\":2}\n",
      "\n"
     ]
    }
   ],
   "source": [
    "x = \"x\"\n",
    "print type(x)\n",
    "\n",
    "for rowIdx in range(0,1):\n",
    "    rowstr = \"\"\n",
    "    for colIdx in range(0,len(kep.colnames)):\n",
    "        print kep[kep.colnames[colIdx]][rowIdx]\n",
    "        print type(kep[kep.colnames[colIdx]][rowIdx])\n",
    "        \n",
    "        if isinstance(kep[kep.colnames[colIdx]][rowIdx], str) or isinstance(kep[kep.colnames[colIdx]][rowIdx], np.ma.core.MaskedConstant):\n",
    "            rowstr = rowstr+'\"'+str(kep.colnames[colIdx])+'\"'+':\"{0}\"'.format(kep[kep.colnames[colIdx]][rowIdx]) + \", \"\n",
    "        else:\n",
    "            rowstr = rowstr+'\"'+str(kep.colnames[colIdx])+'\"'+':{0}'.format(kep[kep.colnames[colIdx]][rowIdx]) + \", \"\n",
    "    rowstr = rowstr[:-2]\n",
    "    rowstr = \"{\" + rowstr + \"},\\n\"\n",
    "    print rowstr"
   ]
  },
  {
   "cell_type": "code",
   "execution_count": 20,
   "metadata": {
    "collapsed": false
   },
   "outputs": [],
   "source": [
    "with open(\"./KOIarchive_stellar.js\",\"a\") as outfile:\n",
    "    outfile.write (\"var planets = [\\n\")\n",
    "    for rowIdx in range(0,len(kep)):\n",
    "        if (kep['koi_srad'][rowIdx] >= 0.005) and (kep['koi_srad'][rowIdx] <= 20.) and (kep['koi_steff'][rowIdx] >= 500) and (kep['koi_steff'][rowIdx] <= 15000.):\n",
    "            rowstr = \"\"\n",
    "            for colIdx in range(0,len(kep.colnames)):\n",
    "                if isinstance(kep[kep.colnames[colIdx]][rowIdx], str) or isinstance(kep[kep.colnames[colIdx]][rowIdx], np.ma.core.MaskedConstant):\n",
    "                    rowstr = rowstr+'\"'+str(kep.colnames[colIdx])+'\"'+':\"{0}\"'.format(kep[kep.colnames[colIdx]][rowIdx]) + \", \"\n",
    "                else:\n",
    "                    rowstr = rowstr+'\"'+str(kep.colnames[colIdx])+'\"'+':{0}'.format(kep[kep.colnames[colIdx]][rowIdx]) + \", \"\n",
    "            rowstr = rowstr[:-2]\n",
    "            rowstr = \"{\" + rowstr + \"},\\n\"\n",
    "            outfile.write(rowstr)\n",
    "    outfile.write(\"];\")\n",
    "    outfile.close()"
   ]
  },
  {
   "cell_type": "code",
   "execution_count": 6,
   "metadata": {
    "collapsed": true
   },
   "outputs": [],
   "source": [
    "def convertL(inputRA, inputdec):\n",
    "    Lnaught = 122.93*(np.pi/180.)\n",
    "    Anaught = 192.86*(np.pi/180.)\n",
    "    Dnaught = 27.13*(np.pi/180.)\n",
    "                    \n",
    "    inputRA_radians = inputRA*(np.pi/180.)\n",
    "    inputdec_radians = inputdec*(np.pi/180.)\n",
    "\n",
    "\n",
    "    L =  (Lnaught - np.arctan2(((np.cos(inputdec_radians)) * (np.sin(inputRA_radians - Anaught))), \n",
    "        ((np.sin(inputdec_radians)) * (np.cos(Dnaught))) - ((np.cos(inputdec_radians)) * \n",
    "        (np.sin(Dnaught)) * (np.cos(inputRA_radians - Anaught)))))\n",
    "\n",
    "    return L*(180./np.pi);\n",
    "\n",
    "def convertB(inputRA, inputdec):\n",
    "    Anaught = 192.86*(np.pi/180.)\n",
    "    Dnaught = 27.13*(np.pi/180.)\n",
    "    inputRA_radians = inputRA*(np.pi/180.)\n",
    "    inputdec_radians = inputdec*(np.pi/180.)\n",
    "\n",
    "    B =  (np.arcsin(((np.sin(inputdec_radians))*(np.sin(Dnaught)))+((np.cos(inputdec_radians))*(np.cos(Dnaught))*(np.cos(inputRA_radians-Anaught)))))\n",
    "                   \n",
    "    return B*(180./np.pi);\n",
    "\n",
    "def convertXYZ(distance, xyzinputRA, xyzinputdec):\n",
    "    l = convertL(inputRA=xyzinputRA, inputdec=xyzinputdec)\n",
    "    b = convertB(inputRA=xyzinputRA, inputdec=xyzinputdec)\n",
    "\n",
    "    l=l*(np.pi/180.);\n",
    "\n",
    "    b=b*(np.pi/180.);\n",
    "\n",
    "    x = distance * (np.cos(l)) * (np.cos(b));\n",
    "    y = distance*(np.cos(b))*(np.sin(l));\n",
    "    z = distance * (np.sin(b));\n",
    "    \n",
    "    return x, y, z"
   ]
  },
  {
   "cell_type": "code",
   "execution_count": 7,
   "metadata": {
    "collapsed": false
   },
   "outputs": [],
   "source": [
    "xs, ys, zs = convertXYZ(kep['dist'],kep['ra'],kep['dec'])"
   ]
  },
  {
   "cell_type": "code",
   "execution_count": 15,
   "metadata": {
    "collapsed": false
   },
   "outputs": [
    {
     "data": {
      "image/png": "[encoded data removed]",
      "text/plain": [
       "<matplotlib.figure.Figure at 0x1d12bb5d50>"
      ]
     },
     "metadata": {},
     "output_type": "display_data"
    }
   ],
   "source": [
    "fig, axes = plt.subplots(1,3,figsize=(18,6))\n",
    "\n",
    "axes[0].scatter(xs,ys,s=kep['koi_srad'],color='k',marker='.')\n",
    "axes[1].scatter(xs,zs,s=kep['koi_srad'],color='k',marker='.')\n",
    "axes[2].scatter(ys,zs,s=kep['koi_srad'],color='k',marker='.')\n",
    "\n",
    "axes[0].set_xlabel(\"x [pc]\",fontsize=16)\n",
    "axes[0].set_ylabel(\"y [pc]\",fontsize=16)\n",
    "\n",
    "axes[1].set_xlabel(\"x [pc]\",fontsize=16)\n",
    "axes[1].set_ylabel(\"z [pc]\",fontsize=16)\n",
    "\n",
    "axes[2].set_xlabel(\"y [pc]\",fontsize=16)\n",
    "axes[2].set_ylabel(\"z [pc]\",fontsize=16)\n",
    "\n",
    "#for ax in axes:\n",
    "#    ax.set_xlim(0,2000)\n",
    "#    ax.set_ylim(0,2000)\n",
    "plt.show()"
   ]
  },
  {
   "cell_type": "code",
   "execution_count": 14,
   "metadata": {
    "collapsed": false
   },
   "outputs": [
    {
     "name": "stdout",
     "output_type": "stream",
     "text": [
      "0.0\n",
      "4480.48934867\n",
      "0.0\n",
      "14487.6009198\n",
      "0.0\n",
      "4977.42390405\n"
     ]
    }
   ],
   "source": [
    "print np.min(xs)\n",
    "print np.max(xs)\n",
    "\n",
    "print np.min(ys)\n",
    "print np.max(ys)\n",
    "\n",
    "print np.min(zs)\n",
    "print np.max(zs)"
   ]
  },
  {
   "cell_type": "code",
   "execution_count": 6,
   "metadata": {
    "collapsed": false
   },
   "outputs": [
    {
     "name": "stdout",
     "output_type": "stream",
     "text": [
      "number RA[deg]   dec[deg]  Vmagnitude\n",
      "------ -------- ---------- ----------\n",
      "     0  1.29125  45.229167        6.7\n",
      "     1 1.265833   0.503056       6.29\n",
      "     2  1.33375    -4.2925       4.61\n",
      "     3    1.425  13.396111       5.51\n",
      "     4 1.566667  58.436667       5.96\n",
      "     5 1.579167    -48.925        5.7\n",
      "     6 1.610417  64.196111       5.59\n",
      "     7 1.653333  29.021389       6.13\n",
      "     8  1.70875   -22.8925       6.18\n",
      "     9 1.825833 -16.613611       6.19\n",
      "   ...      ...        ...        ...\n",
      "  9085 1.056667  62.287778       5.88\n",
      "  9086 1.082083 -15.471111       5.78\n",
      "  9087 1.084583 -28.731389        6.4\n",
      "  9088 1.125417  -9.490556       4.94\n",
      "  9089    1.175  67.166667       5.67\n",
      "  9090 1.152917  42.092222       6.01\n",
      "  9091 1.127917 -71.102222       7.31\n",
      "  9092 1.224167  34.659722       6.12\n",
      "  9093 1.172083 -70.563056       5.59\n",
      "  9094 1.233333  26.648889       6.25\n",
      "  9095 1.275833  61.314167        5.8\n",
      "Length = 9096 rows\n"
     ]
    }
   ],
   "source": [
    "bsc = ascii.read(\"./bsc5catalog.txt\")\n",
    "print bsc"
   ]
  },
  {
   "cell_type": "code",
   "execution_count": 5,
   "metadata": {
    "collapsed": false
   },
   "outputs": [
    {
     "name": "stdout",
     "output_type": "stream",
     "text": [
      "{\"number\":0, \"RA[deg]\":1.29125, \"dec[deg]\":45.229167, \"Vmagnitude\":6.7},\n",
      "\n"
     ]
    }
   ],
   "source": [
    "for rowIdx in range(0,1):\n",
    "    rowstr = \"\"\n",
    "    for colIdx in range(0,len(bsc.colnames)):\n",
    "        rowstr = rowstr+'\"'+str(bsc.colnames[colIdx])+'\"'+':{0}'.format(bsc[bsc.colnames[colIdx]][rowIdx]) + \", \"\n",
    "    rowstr = rowstr[:-2]\n",
    "    rowstr = \"{\" + rowstr + \"},\\n\"\n",
    "    print rowstr"
   ]
  },
  {
   "cell_type": "code",
   "execution_count": null,
   "metadata": {
    "collapsed": true
   },
   "outputs": [],
   "source": [
    "with open(\"./bsc.js\",\"a\") as outfile:\n",
    "    outfile.write (\"var brightstars = [\\n\")\n",
    "    for rowIdx in range(0,len(bsc)):\n",
    "        rowstr = \"\"\n",
    "        for colIdx in range(0,len(bsc.colnames)):\n",
    "            rowstr = rowstr+'\"'+str(bsc.colnames[colIdx])+'\"'+':{0}'.format(bsc[bsc.colnames[colIdx]][rowIdx]) + \", \"\n",
    "        rowstr = rowstr[:-2]\n",
    "        rowstr = \"{\" + rowstr + \"},\\n\"\n",
    "        outfile.write(rowstr)\n",
    "    outfile.write(\"];\")\n",
    "    outfile.close()"
   ]
  }
 ],
 "metadata": {
  "kernelspec": {
   "display_name": "Python 2",
   "language": "python",
   "name": "python2"
  },
  "language_info": {
   "codemirror_mode": {
    "name": "ipython",
    "version": 2
   },
   "file_extension": ".py",
   "mimetype": "text/x-python",
   "name": "python",
   "nbconvert_exporter": "python",
   "pygments_lexer": "ipython2",
   "version": "2.7.12"
  }
 },
 "nbformat": 4,
 "nbformat_minor": 0
}
